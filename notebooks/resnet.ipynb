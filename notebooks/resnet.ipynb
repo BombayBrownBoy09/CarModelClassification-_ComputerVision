{
 "cells": [
  {
   "cell_type": "markdown",
   "metadata": {},
   "source": [
    "# Import Libraries"
   ]
  },
  {
   "cell_type": "code",
   "execution_count": null,
   "metadata": {},
   "outputs": [],
   "source": [
    "import os\n",
    "import pandas as pd\n",
    "import torch\n",
    "import torch.nn as nn\n",
    "import torch.optim as optim\n",
    "from torchvision import datasets, transforms\n",
    "from torch.utils.data import DataLoader, Dataset\n",
    "\n",
    "import warnings\n",
    "warnings.filterwarnings(\"ignore\")"
   ]
  },
  {
   "cell_type": "markdown",
   "metadata": {},
   "source": [
    "# Implement custom PyTorch Dataset Class"
   ]
  },
  {
   "cell_type": "code",
   "execution_count": null,
   "metadata": {},
   "outputs": [],
   "source": [
    "from torchvision.io import read_image\n",
    "\n",
    "class CarsDataset(Dataset):\n",
    "  def __init__(self, csv_file, root_dir, transform=None):\n",
    "    self.annotations = pd.read_csv(csv_file)\n",
    "    self.root_dir = root_dir\n",
    "    self.transform = transform\n",
    "\n",
    "  def __len__(self):\n",
    "    return len(self.annotations)\n",
    "\n",
    "  def __getitem__(self,index):\n",
    "    img_path = os.path.join(self.root_dir, self.annotations.iloc[index,0])\n",
    "    image = read_image(img_path)\n",
    "    label = int(self.annotations.iloc[index,-1])\n",
    "    \n",
    "    if self.transform:\n",
    "      image = self.transform(image)\n",
    "    \n",
    "    return image, label"
   ]
  },
  {
   "cell_type": "markdown",
   "metadata": {},
   "source": [
    "# PyTorch data transforms"
   ]
  },
  {
   "cell_type": "code",
   "execution_count": null,
   "metadata": {},
   "outputs": [],
   "source": [
    "from torchvision.transforms.transforms import ToPILImage\n",
    "from torch.utils import data\n",
    "\n",
    "data_transforms = {\n",
    "    'train': transforms.Compose([      \n",
    "        transforms.ToPILImage(),        \n",
    "        #transforms.RandomResizedCrop(224),\n",
    "        transforms.Resize(256),               # NOT IN ORIGINAL\n",
    "        transforms.CenterCrop(224),           # NOT ORIGINAL\n",
    "        transforms.RandomHorizontalFlip(),\n",
    "        transforms.ToTensor(),\n",
    "        transforms.Normalize([0.485, 0.456, 0.406], [0.229, 0.224, 0.225])\n",
    "    ]),\n",
    "    'val': transforms.Compose([    \n",
    "        transforms.ToPILImage(),                           \n",
    "        transforms.Resize(256),\n",
    "        transforms.CenterCrop(224),\n",
    "        transforms.ToTensor(),\n",
    "        transforms.Normalize([0.485, 0.456, 0.406], [0.229, 0.224, 0.225])\n",
    "    ]),\n",
    "}"
   ]
  },
  {
   "cell_type": "markdown",
   "metadata": {},
   "source": [
    "# Create Dataset"
   ]
  },
  {
   "cell_type": "code",
   "execution_count": null,
   "metadata": {},
   "outputs": [],
   "source": [
    "train_dataset = CarsDataset('train_w_converted.txt','./train_real', data_transforms['train'])\n",
    "val_dataset = CarsDataset('test_w_converted.txt','./test_real', data_transforms['val'])\n",
    "val_dataset, test_dataset = torch.utils.data.random_split(val_dataset, [7470, 7469])\n",
    "dataset_sizes = {'train':len(train_dataset),'val':len(val_dataset)}\n",
    "\n",
    "print(f'Length of train_dataset is: {len(train_dataset)}')\n",
    "print(f'Length of val_dataset is: {len(val_dataset)}')\n",
    "print(f'Length of val_dataset is: {len(test_dataset)}')"
   ]
  },
  {
   "cell_type": "markdown",
   "metadata": {},
   "source": [
    "# Create Dataloaders"
   ]
  },
  {
   "cell_type": "code",
   "execution_count": null,
   "metadata": {},
   "outputs": [],
   "source": [
    "batch_size = 32\n",
    "\n",
    "train_loader = torch.utils.data.DataLoader(train_dataset, batch_size=batch_size,\n",
    "                                             shuffle=True, num_workers=16)\n",
    "\n",
    "val_loader = torch.utils.data.DataLoader(val_dataset, batch_size=batch_size,\n",
    "                                             shuffle=False, num_workers=16)\n",
    "\n",
    "test_loader = torch.utils.data.DataLoader(test_dataset, batch_size=batch_size,\n",
    "                                             shuffle=False, num_workers=16)\n",
    "\n",
    "dataloaders = {'train':train_loader,'val':val_loader}"
   ]
  },
  {
   "cell_type": "markdown",
   "metadata": {},
   "source": [
    "# Import Model"
   ]
  },
  {
   "cell_type": "code",
   "execution_count": null,
   "metadata": {},
   "outputs": [],
   "source": [
    "from torchvision import models\n",
    "\n",
    "resnet = models.resnet152(pretrained= True, progress = True) # import a pretrained PyTorch implementation of Resnet-152\n",
    "\n",
    "if torch.cuda.is_available(): # switch to GPU if available\n",
    "  device = 'cuda'\n",
    "else:\n",
    "  device = 'cpu'"
   ]
  },
  {
   "cell_type": "markdown",
   "metadata": {},
   "source": [
    "# Freeze weights and place new FC layer"
   ]
  },
  {
   "cell_type": "code",
   "execution_count": null,
   "metadata": {},
   "outputs": [],
   "source": [
    "for param in resnet.parameters(): # freeze model weights\n",
    "    param.requires_grad = False\n",
    "\n",
    "num_ftrs = resnet.fc.in_features # number of input features to final fully connected layer\n",
    "resnet.fc = nn.Linear(num_ftrs,431)"
   ]
  },
  {
   "cell_type": "markdown",
   "metadata": {},
   "source": [
    "# Define cost function and optimizer"
   ]
  },
  {
   "cell_type": "code",
   "execution_count": null,
   "metadata": {},
   "outputs": [],
   "source": [
    "criterion = nn.CrossEntropyLoss()\n",
    "\n",
    "optimizer = optim.SGD(resnet.parameters(), lr = 0.001, momentum = 0.9) # default as SGD"
   ]
  },
  {
   "cell_type": "markdown",
   "metadata": {},
   "source": [
    "# Def train function"
   ]
  },
  {
   "cell_type": "code",
   "execution_count": null,
   "metadata": {},
   "outputs": [],
   "source": [
    "import copy\n",
    "from tqdm import tqdm\n",
    "\n",
    "def train_model(model, criterion, optimizer, dataloaders, device, num_epochs=50, lrscheduler=None):\n",
    "\n",
    "    model = model.to(device) # Send model to GPU if available\n",
    "\n",
    "    iter_num = {'train':0,'val':0} # Track total number of iterations\n",
    "\n",
    "    train_loss = []\n",
    "    train_acc = []\n",
    "\n",
    "    val_loss = []\n",
    "    val_acc = []\n",
    "\n",
    "    epoch_list = []\n",
    "    current_epoch = 0\n",
    "\n",
    "    best_model_wts = copy.deepcopy(model.state_dict())\n",
    "    best_acc = 0\n",
    "\n",
    "    for epoch in range(num_epochs):\n",
    "        print('Epoch {}/{}'.format(epoch, num_epochs - 1))\n",
    "        print('-' * 10)\n",
    "\n",
    "        epoch_list.append(current_epoch)\n",
    "        current_epoch += 1\n",
    "\n",
    "        # Each epoch has a training and validation phase\n",
    "        for phase in ['train', 'val']:\n",
    "            if phase == 'train':\n",
    "                model.train()  # Set model to training mode\n",
    "            else:\n",
    "                model.eval()   # Set model to evaluate mode\n",
    "\n",
    "            running_loss = 0.0\n",
    "            running_corrects = 0\n",
    "\n",
    "            # Get the input images and labels, and send to GPU if available\n",
    "            for inputs, labels in tqdm(dataloaders[phase]):\n",
    "                inputs = inputs.to(device)\n",
    "                labels = labels.to(device)\n",
    "\n",
    "                # Zero the weight gradients\n",
    "                optimizer.zero_grad()\n",
    "\n",
    "                # Forward pass to get outputs and calculate loss\n",
    "                # Track gradient only for training data\n",
    "                with torch.set_grad_enabled(phase == 'train'):\n",
    "                    outputs = model(inputs)\n",
    "                    _, preds = torch.max(outputs, 1)\n",
    "                    loss = criterion(outputs, labels)\n",
    "\n",
    "                    # Backpropagation to get the gradients with respect to each weight\n",
    "                    # Only if in train\n",
    "                    if phase == 'train':\n",
    "                        loss.backward()\n",
    "                        # Update the weights\n",
    "                        optimizer.step()\n",
    "\n",
    "                        if type(lrscheduler) == optim.lr_scheduler.OneCycleLR:\n",
    "                            lrscheduler.step()\n",
    "\n",
    "                # Convert loss into a scalar and add it to running_loss\n",
    "                running_loss += loss.item() * inputs.size(0)\n",
    "                # Track number of correct predictions\n",
    "                running_corrects += torch.sum(preds == labels.data)\n",
    "\n",
    "                # Iterate count of iterations\n",
    "                iter_num[phase] += 1\n",
    "\n",
    "            # Calculate and display average loss and accuracy for the epoch\n",
    "            epoch_loss = running_loss / dataset_sizes[phase]\n",
    "            epoch_acc = running_corrects.double() / dataset_sizes[phase]\n",
    "            # print('{} Loss: {:.4f} Acc: {:.4f}'.format(phase, epoch_loss, epoch_acc))\n",
    "            print(f'{phase} Loss: {np.round(epoch_loss,2)} Acc: {np.round(epoch_acc.item()*100,2)}%')\n",
    "\n",
    "            if phase == 'val' and epoch_acc.item() > best_acc:\n",
    "                best_acc = epoch_acc.item()\n",
    "                best_model_wts = copy.deepcopy(model.state_dict())\n",
    "                best_epoch = epoch\n",
    "\n",
    "            if phase == 'train':\n",
    "                train_loss.append(epoch_loss)\n",
    "                train_acc.append(epoch_acc)\n",
    "            elif phase == 'val':\n",
    "                val_loss.append(epoch_loss)\n",
    "                val_acc.append(epoch_acc)\n",
    "\n",
    "    return epoch_list, train_loss, train_acc, val_loss, val_acc, best_acc, best_model_wts, best_epoch"
   ]
  },
  {
   "cell_type": "markdown",
   "metadata": {},
   "source": [
    "# Train and evaluate (run only one of the following. You must redownload and strip FC layer before training a different version of model."
   ]
  },
  {
   "cell_type": "markdown",
   "metadata": {},
   "source": [
    "### SGD, no LR scheduler:"
   ]
  },
  {
   "cell_type": "code",
   "execution_count": null,
   "metadata": {},
   "outputs": [],
   "source": [
    "epoch_list, train_loss, train_acc, val_loss, val_acc, best_acc, best_model_wts, best_epoch = train_model(resnet, criterion, optimizer, dataloaders, device, num_epochs=50, lrscheduler=None)"
   ]
  },
  {
   "cell_type": "markdown",
   "metadata": {},
   "source": [
    "### Train and evaluate SGD w/ OneCycleLR scheduler"
   ]
  },
  {
   "cell_type": "code",
   "execution_count": null,
   "metadata": {},
   "outputs": [],
   "source": [
    "lr_scheduler = optim.lr_scheduler.OneCycleLR(optimizer, max_lr=0.30, base_momentum = 0.6, steps_per_epoch=501, epochs=30)\n",
    "\n",
    "epoch_list, train_loss, train_acc, val_loss, val_acc, best_acc, best_model_wts, best_epoch = train_model(resnet, criterion, optimizer, dataloaders, device, num_epochs=50, lrscheduler=lr_scheduler)"
   ]
  },
  {
   "cell_type": "markdown",
   "metadata": {},
   "source": [
    "### Train and evaluate AdamW policy (better than Adam), no LR scheduler"
   ]
  },
  {
   "cell_type": "code",
   "execution_count": null,
   "metadata": {},
   "outputs": [],
   "source": [
    "optimizer = optim.AdamW(resnet.parameters(), lr = 0.001)\n",
    "\n",
    "epoch_list, train_loss, train_acc, val_loss, val_acc, best_acc, best_model_wts, best_epoch = train_model(resnet, criterion, optimizer, dataloaders, device, num_epochs=50, lrscheduler=None)"
   ]
  },
  {
   "cell_type": "markdown",
   "metadata": {},
   "source": [
    "# Visualize results"
   ]
  },
  {
   "cell_type": "markdown",
   "metadata": {},
   "source": [
    "### Visualize loss:"
   ]
  },
  {
   "cell_type": "code",
   "execution_count": null,
   "metadata": {},
   "outputs": [],
   "source": [
    "import matplotlib.pyplot as plt\n",
    "%matplotlib inline\n",
    "\n",
    "fig = plt.figure(figsize=(15, 9))\n",
    "plt.plot(epoch_list,train_loss, val_loss)\n",
    "plt.xlabel('epoch')\n",
    "plt.ylabel('loss')\n",
    "plt.title('Loss')\n",
    "plt.legend(['train','val'])"
   ]
  },
  {
   "cell_type": "markdown",
   "metadata": {},
   "source": [
    "### Visualize accuracy:"
   ]
  },
  {
   "cell_type": "code",
   "execution_count": null,
   "metadata": {},
   "outputs": [],
   "source": [
    "train_acc_final = []\n",
    "val_acc_final = []\n",
    "\n",
    "for i in range(len(train_acc)):\n",
    "  train_acc_final.append(train_acc[i].item())\n",
    "  val_acc_final.append(val_acc[i].item())\n",
    "\n",
    "\n",
    "fig = plt.figure(figsize=(15, 9))\n",
    "plt.plot(epoch_list,train_acc_final, val_acc_final)\n",
    "plt.xlabel('epoch')\n",
    "plt.ylabel('accuracy')\n",
    "plt.title('Accuracy')\n",
    "plt.legend(['train','val'])"
   ]
  }
 ],
 "metadata": {
  "interpreter": {
   "hash": "ddf276f29c7076b41743902a3bcbee0bda0d11cfec63083f71d5ba59efbef543"
  },
  "kernelspec": {
   "display_name": "Python 3.8.2 ('base')",
   "language": "python",
   "name": "python3"
  },
  "language_info": {
   "name": "python",
   "version": "3.8.2"
  },
  "orig_nbformat": 4
 },
 "nbformat": 4,
 "nbformat_minor": 2
}
